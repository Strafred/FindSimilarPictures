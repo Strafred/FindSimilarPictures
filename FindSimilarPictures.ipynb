{
 "cells": [
  {
   "cell_type": "markdown",
   "metadata": {},
   "source": "# Поиск похожих изображений по картинке"
  },
  {
   "metadata": {
    "ExecuteTime": {
     "end_time": "2024-12-03T07:49:17.503555Z",
     "start_time": "2024-12-03T07:49:17.496548Z"
    }
   },
   "cell_type": "code",
   "source": [
    "import cv2\n",
    "import torch\n",
    "import torchvision.models as models\n",
    "from transformers import AutoImageProcessor, AutoModel\n",
    "\n",
    "device = torch.device('cuda' if torch.cuda.is_available() else \"cpu\")\n",
    "\n",
    "IMAGES_FOLDER = \"images_19206\"\n",
    "\n",
    "INCEPTION_OPTION = \"INCEPTION MODEL EMBEDDINGS\"\n",
    "DINO_OPTION = \"DINO MODEL EMBEDDINGS\"\n",
    "VGG_OPTION = \"VGG-16 MODEL EMBEDDINGS\"\n",
    "HOG_OPTION = \"HISTOGRAM OF GRADIENTS EMBEDDINGS\"\n",
    "COLOR_HIST_OPTION = \"COLOR HISTOGRAM EMBEDDINGS\"\n",
    "SIFT_OPTION = \"SIFT EMBEDDINGS\""
   ],
   "outputs": [],
   "execution_count": 36
  },
  {
   "metadata": {
    "ExecuteTime": {
     "end_time": "2024-12-03T07:49:18.862367Z",
     "start_time": "2024-12-03T07:49:17.517567Z"
    }
   },
   "cell_type": "code",
   "source": [
    "dino_processor = AutoImageProcessor.from_pretrained('facebook/dinov2-small')\n",
    "dino_model = AutoModel.from_pretrained('facebook/dinov2-small').to(device)"
   ],
   "outputs": [],
   "execution_count": 37
  },
  {
   "metadata": {
    "ExecuteTime": {
     "end_time": "2024-12-03T07:49:20.607753Z",
     "start_time": "2024-12-03T07:49:18.908282Z"
    }
   },
   "cell_type": "code",
   "source": [
    "vgg_model = models.vgg16(pretrained=True)\n",
    "vgg_model.classifier = vgg_model.classifier[0]\n",
    "vgg_model = vgg_model.to(device)"
   ],
   "outputs": [],
   "execution_count": 38
  },
  {
   "metadata": {
    "ExecuteTime": {
     "end_time": "2024-12-03T07:49:21.058766Z",
     "start_time": "2024-12-03T07:49:20.642167Z"
    }
   },
   "cell_type": "code",
   "source": [
    "inception_model = models.inception_v3(pretrained=True)\n",
    "inception_model.fc = torch.nn.Identity()\n",
    "inception_model = inception_model.to(device)"
   ],
   "outputs": [],
   "execution_count": 39
  },
  {
   "cell_type": "code",
   "metadata": {
    "ExecuteTime": {
     "end_time": "2024-12-03T07:49:21.194735Z",
     "start_time": "2024-12-03T07:49:21.096764Z"
    }
   },
   "source": [
    "from PIL import Image\n",
    "import os\n",
    "import numpy as np\n",
    "import pandas as pd\n",
    "import tqdm as tqdm\n",
    "from torchvision import transforms\n",
    "\n",
    "\n",
    "def calculate_embeddings(calculate_embedding_method, output_file_name, images_path=IMAGES_FOLDER):\n",
    "    df = pd.DataFrame(data=None, columns=[\"img_path\", \"vector\"])\n",
    "    df_index = 0\n",
    "    \n",
    "    bar = tqdm.tqdm(total=len(os.listdir(images_path)))\n",
    "    for img in os.listdir(images_path):\n",
    "        img_path = os.path.join(images_path, img)\n",
    "        img = cv2.imread(img_path)\n",
    "        \n",
    "        img_vector = calculate_embedding_method(img)\n",
    "        \n",
    "        df.loc[df_index] = [img_path, img_vector]\n",
    "        df_index += 1\n",
    "        bar.update(1)\n",
    "        \n",
    "    df.to_pickle(output_file_name)\n",
    "\n",
    "        \n",
    "def sift_descriptors(img):\n",
    "    img = cv2.resize(img, (512, 512))\n",
    "    gray_img = cv2.cvtColor(np.array(img), cv2.COLOR_BGR2GRAY)\n",
    "    \n",
    "    sift = cv2.SIFT_create()\n",
    "    _, img_descriptors = sift.detectAndCompute(gray_img, None)\n",
    "    return img_descriptors\n",
    "\n",
    "\n",
    "def color_histogram(img):\n",
    "    img = cv2.resize(img, (512, 512))\n",
    "    img = cv2.cvtColor(np.array(img), cv2.COLOR_BGR2RGB)\n",
    "    \n",
    "    result = []\n",
    "    colors = (\"red\", \"green\", \"blue\")\n",
    "    for channel_id, color in enumerate(colors):\n",
    "        histogram, _ = np.histogram(img[:, :, channel_id], bins=256)\n",
    "        histogram = histogram / np.linalg.norm(histogram)\n",
    "        result.extend(histogram)\n",
    "    return np.array(result)\n",
    "\n",
    "\n",
    "def hog(img):\n",
    "    img = cv2.resize(img, (512, 512))\n",
    "    img = cv2.cvtColor(np.array(img), cv2.COLOR_BGR2GRAY)\n",
    "    \n",
    "    sobel_x = cv2.Sobel(img, cv2.CV_64F, 1, 0, ksize=5)\n",
    "    sobel_y = cv2.Sobel(img, cv2.CV_64F, 0, 1, ksize=5)\n",
    "    g, theta = cv2.cartToPolar(sobel_x, sobel_y)\n",
    "    hist, _ = np.histogram(theta.flatten(), bins=256, range=(0, 2*np.pi), weights=g.flatten())\n",
    "    hist = hist / np.linalg.norm(hist)\n",
    "    \n",
    "    return hist\n",
    "\n",
    "\n",
    "def dino_embedding(img):\n",
    "    img = cv2.resize(img, (512, 512))\n",
    "    img = cv2.cvtColor(img, cv2.COLOR_BGR2RGB)\n",
    "    \n",
    "    with torch.no_grad():\n",
    "        inputs = dino_processor(images=img, return_tensors=\"pt\").to(device)\n",
    "        outputs = dino_model(**inputs)\n",
    "        \n",
    "    features = outputs.last_hidden_state\n",
    "    embedding = features.mean(dim=1).squeeze().cpu().detach().numpy()\n",
    "    embedding = np.float32(embedding) / np.linalg.norm(embedding)\n",
    "    \n",
    "    return embedding\n",
    "\n",
    "\n",
    "def vgg_16_embedding(img):\n",
    "    img = cv2.resize(img, (214, 214))\n",
    "    img = cv2.cvtColor(img, cv2.COLOR_BGR2RGB)\n",
    "    \n",
    "    img = torch.tensor(img, dtype=torch.float)\n",
    "    img = img.unsqueeze(0)\n",
    "    \n",
    "    with torch.no_grad():\n",
    "        vgg_model.eval()\n",
    "        embedding = vgg_model(img.permute(0, 3, 1, 2)).squeeze().cpu().detach().numpy()\n",
    "    \n",
    "    embedding = np.float32(embedding) / np.linalg.norm(embedding)\n",
    "    \n",
    "    return embedding\n",
    "\n",
    "def inception_embedding(img):\n",
    "    img = cv2.cvtColor(img, cv2.COLOR_BGR2RGB)\n",
    "    img = Image.fromarray(img)\n",
    "    \n",
    "    preprocess = transforms.Compose([\n",
    "        transforms.Resize(299),\n",
    "        transforms.CenterCrop(299),\n",
    "        transforms.ToTensor(),\n",
    "        transforms.Normalize(mean=[0.485, 0.456, 0.406], std=[0.229, 0.224, 0.225]),\n",
    "    ])\n",
    "    input_tensor = preprocess(img)\n",
    "    input_tensor = input_tensor.unsqueeze(0)\n",
    "    input_tensor = input_tensor.to(device)\n",
    "    \n",
    "    print(input_tensor.shape)\n",
    "    with torch.no_grad():\n",
    "        inception_model.eval()\n",
    "        embedding = inception_model(input_tensor).squeeze().cpu().detach().numpy()"
   ],
   "outputs": [
    {
     "name": "stdout",
     "output_type": "stream",
     "text": [
      "torch.Size([1, 3, 299, 299])\n"
     ]
    }
   ],
   "execution_count": 40
  },
  {
   "metadata": {
    "ExecuteTime": {
     "end_time": "2024-12-03T07:49:21.291369Z",
     "start_time": "2024-12-03T07:49:21.285733Z"
    }
   },
   "cell_type": "code",
   "source": [
    "# RUN ONLY 1 TIME:\n",
    "\n",
    "if not os.path.isdir(f\"{IMAGES_FOLDER}_vectors\"):\n",
    "    os.makedirs(f\"{IMAGES_FOLDER}_vectors\")\n",
    "\n",
    "# calculate_embeddings(sift_descriptors, f\"{IMAGES_FOLDER}_vectors/sift_vectors.pkl\")\n",
    "# calculate_embeddings(color_histogram, f\"{IMAGES_FOLDER}_vectors/color_histogram_vectors.pkl\")\n",
    "# calculate_embeddings(hog, f\"{IMAGES_FOLDER}_vectors/hog_vectors.pkl\")\n",
    "# calculate_embeddings(dino_embedding, f\"{IMAGES_FOLDER}_vectors/dino_vectors.pkl\")\n",
    "# calculate_embeddings(vgg_16_embedding, f\"{IMAGES_FOLDER}_vectors/vgg_16_vectors.pkl\")"
   ],
   "outputs": [],
   "execution_count": 41
  },
  {
   "metadata": {
    "ExecuteTime": {
     "end_time": "2024-12-03T07:49:21.342612Z",
     "start_time": "2024-12-03T07:49:21.325894Z"
    }
   },
   "cell_type": "code",
   "source": [
    "def find_similar_images(image, method = SIFT_OPTION):\n",
    "    if method == SIFT_OPTION:\n",
    "        image = cv2.resize(image, (512, 512))\n",
    "        images_embeddings = pd.read_pickle(f\"{IMAGES_FOLDER}_vectors/sift_vectors.pkl\")\n",
    "        query_embedding = sift_descriptors(image)\n",
    "    elif method == COLOR_HIST_OPTION:\n",
    "        image = cv2.resize(image, (512, 512))\n",
    "        images_embeddings = pd.read_pickle(f\"{IMAGES_FOLDER}_vectors/color_histogram_vectors.pkl\")\n",
    "        query_embedding = color_histogram(image)\n",
    "    elif method == HOG_OPTION:\n",
    "        image = cv2.resize(image, (512, 512))\n",
    "        images_embeddings = pd.read_pickle(f\"{IMAGES_FOLDER}_vectors/hog_vectors.pkl\")\n",
    "        query_embedding = hog(image)\n",
    "    elif method == DINO_OPTION:\n",
    "        image = cv2.resize(image, (512, 512))\n",
    "        images_embeddings = pd.read_pickle(f\"{IMAGES_FOLDER}_vectors/dino_vectors.pkl\")\n",
    "        query_embedding = dino_embedding(image)\n",
    "    elif method == VGG_OPTION:\n",
    "        image = cv2.resize(image, (214, 214))\n",
    "        images_embeddings = pd.read_pickle(f\"{IMAGES_FOLDER}_vectors/vgg_16_vectors.pkl\")\n",
    "        query_embedding = vgg_16_embedding(image)\n",
    "    else:\n",
    "        raise ValueError(\"Unknown method\")\n",
    "        \n",
    "    all_img_paths = images_embeddings[\"img_path\"]\n",
    "    all_embeddings = images_embeddings[\"vector\"]\n",
    "    top1_image_path = \"\"\n",
    "    top2_image_path = \"\"\n",
    "    top3_image_path = \"\"\n",
    "    \n",
    "    if method == SIFT_OPTION:\n",
    "        bf = cv2.BFMatcher(cv2.NORM_L2, crossCheck=True)\n",
    "        top1_matches = 0\n",
    "        top2_matches = 0\n",
    "        top3_matches = 0\n",
    "        for i, vector in enumerate(all_embeddings):\n",
    "            matches = bf.match(query_embedding, vector)\n",
    "            num_matches = len(matches)\n",
    "            if num_matches > top1_matches:\n",
    "                top3_matches = top2_matches\n",
    "                top2_matches = top1_matches\n",
    "                top1_matches = num_matches\n",
    "                top3_image_path = top2_image_path\n",
    "                top2_image_path = top1_image_path\n",
    "                top1_image_path = all_img_paths[i]\n",
    "            elif num_matches > top2_matches:\n",
    "                top3_matches = top2_matches\n",
    "                top2_matches = num_matches\n",
    "                top3_image_path = top2_image_path\n",
    "                top2_image_path = all_img_paths[i]\n",
    "            elif num_matches > top3_matches:\n",
    "                top3_matches = num_matches\n",
    "                top3_image_path = all_img_paths[i]\n",
    "\n",
    "    else:\n",
    "        top1_distance = float(\"inf\")\n",
    "        top2_distance = float(\"inf\")\n",
    "        top3_distance = float(\"inf\")\n",
    "        for i, vector in enumerate(all_embeddings):\n",
    "            if method == DINO_OPTION or method == VGG_OPTION:\n",
    "                cosine_similarity = np.dot(query_embedding, vector)\n",
    "                distance = 1 - cosine_similarity\n",
    "            else:\n",
    "                distance = np.linalg.norm(query_embedding - vector)\n",
    "            if distance < top1_distance:\n",
    "                top3_distance = top2_distance\n",
    "                top2_distance = top1_distance\n",
    "                top1_distance = distance\n",
    "                top3_image_path = top2_image_path\n",
    "                top2_image_path = top1_image_path\n",
    "                top1_image_path = all_img_paths[i]\n",
    "            elif distance < top2_distance:\n",
    "                top3_distance = top2_distance\n",
    "                top2_distance = distance\n",
    "                top3_image_path = top2_image_path\n",
    "                top2_image_path = all_img_paths[i]\n",
    "            elif distance < top3_distance:\n",
    "                top3_distance = distance\n",
    "                top3_image_path = all_img_paths[i]\n",
    "\n",
    "    top1_image = cv2.imread(top1_image_path)\n",
    "    top1_image = cv2.cvtColor(top1_image, cv2.COLOR_BGR2RGB)\n",
    "    top2_image = cv2.imread(top2_image_path)\n",
    "    top2_image = cv2.cvtColor(top2_image, cv2.COLOR_BGR2RGB)\n",
    "    top3_image = cv2.imread(top3_image_path)\n",
    "    top3_image = cv2.cvtColor(top3_image, cv2.COLOR_BGR2RGB)\n",
    "    \n",
    "    return [top1_image, top2_image, top3_image]"
   ],
   "outputs": [],
   "execution_count": 42
  },
  {
   "metadata": {
    "ExecuteTime": {
     "end_time": "2024-12-03T07:49:25.771191Z",
     "start_time": "2024-12-03T07:49:21.375855Z"
    }
   },
   "cell_type": "code",
   "source": [
    "import gradio as gr\n",
    "\n",
    "\n",
    "def get_similar_images(text, image, method):\n",
    "    similar_images = find_similar_images(image, method)\n",
    "    images = []\n",
    "    \n",
    "    for image in similar_images:\n",
    "        images.append(cv2.cvtColor(image, cv2.COLOR_BGR2RGB),)\n",
    "    \n",
    "    return similar_images\n",
    "\n",
    "(gr.Interface(get_similar_images,\n",
    "              inputs=[\n",
    "                  \"text\",\n",
    "                  \"image\",\n",
    "                  gr.Dropdown(choices=\n",
    "                              [DINO_OPTION, VGG_OPTION, HOG_OPTION, COLOR_HIST_OPTION, SIFT_OPTION])],\n",
    "              outputs=gr.Gallery(label=\"Similar Images\", columns=3))\n",
    " .launch())"
   ],
   "outputs": [
    {
     "ename": "KeyboardInterrupt",
     "evalue": "",
     "output_type": "error",
     "traceback": [
      "\u001B[1;31m---------------------------------------------------------------------------\u001B[0m",
      "\u001B[1;31mKeyboardInterrupt\u001B[0m                         Traceback (most recent call last)",
      "Cell \u001B[1;32mIn[43], line 1\u001B[0m\n\u001B[1;32m----> 1\u001B[0m \u001B[38;5;28;01mimport\u001B[39;00m \u001B[38;5;21;01mgradio\u001B[39;00m \u001B[38;5;28;01mas\u001B[39;00m \u001B[38;5;21;01mgr\u001B[39;00m\n\u001B[0;32m      4\u001B[0m \u001B[38;5;28;01mdef\u001B[39;00m \u001B[38;5;21mget_similar_images\u001B[39m(text, image, method):\n\u001B[0;32m      5\u001B[0m     similar_images \u001B[38;5;241m=\u001B[39m find_similar_images(image, method)\n",
      "File \u001B[1;32m~\\anaconda3\\envs\\vyatsu_environment\\Lib\\site-packages\\gradio\\__init__.py:3\u001B[0m\n\u001B[0;32m      1\u001B[0m \u001B[38;5;28;01mimport\u001B[39;00m \u001B[38;5;21;01mjson\u001B[39;00m\n\u001B[1;32m----> 3\u001B[0m \u001B[38;5;28;01mimport\u001B[39;00m \u001B[38;5;21;01mgradio\u001B[39;00m\u001B[38;5;21;01m.\u001B[39;00m\u001B[38;5;21;01m_simple_templates\u001B[39;00m\n\u001B[0;32m      4\u001B[0m \u001B[38;5;28;01mimport\u001B[39;00m \u001B[38;5;21;01mgradio\u001B[39;00m\u001B[38;5;21;01m.\u001B[39;00m\u001B[38;5;21;01mimage_utils\u001B[39;00m\n\u001B[0;32m      5\u001B[0m \u001B[38;5;28;01mimport\u001B[39;00m \u001B[38;5;21;01mgradio\u001B[39;00m\u001B[38;5;21;01m.\u001B[39;00m\u001B[38;5;21;01mprocessing_utils\u001B[39;00m\n",
      "File \u001B[1;32m~\\anaconda3\\envs\\vyatsu_environment\\Lib\\site-packages\\gradio\\_simple_templates\\__init__.py:1\u001B[0m\n\u001B[1;32m----> 1\u001B[0m \u001B[38;5;28;01mfrom\u001B[39;00m \u001B[38;5;21;01m.\u001B[39;00m\u001B[38;5;21;01msimpledropdown\u001B[39;00m \u001B[38;5;28;01mimport\u001B[39;00m SimpleDropdown\n\u001B[0;32m      2\u001B[0m \u001B[38;5;28;01mfrom\u001B[39;00m \u001B[38;5;21;01m.\u001B[39;00m\u001B[38;5;21;01msimpleimage\u001B[39;00m \u001B[38;5;28;01mimport\u001B[39;00m SimpleImage\n\u001B[0;32m      3\u001B[0m \u001B[38;5;28;01mfrom\u001B[39;00m \u001B[38;5;21;01m.\u001B[39;00m\u001B[38;5;21;01msimpletextbox\u001B[39;00m \u001B[38;5;28;01mimport\u001B[39;00m SimpleTextbox\n",
      "File \u001B[1;32m~\\anaconda3\\envs\\vyatsu_environment\\Lib\\site-packages\\gradio\\_simple_templates\\simpledropdown.py:7\u001B[0m\n\u001B[0;32m      4\u001B[0m \u001B[38;5;28;01mfrom\u001B[39;00m \u001B[38;5;21;01mcollections\u001B[39;00m\u001B[38;5;21;01m.\u001B[39;00m\u001B[38;5;21;01mabc\u001B[39;00m \u001B[38;5;28;01mimport\u001B[39;00m Callable, Sequence\n\u001B[0;32m      5\u001B[0m \u001B[38;5;28;01mfrom\u001B[39;00m \u001B[38;5;21;01mtyping\u001B[39;00m \u001B[38;5;28;01mimport\u001B[39;00m TYPE_CHECKING, Any\n\u001B[1;32m----> 7\u001B[0m \u001B[38;5;28;01mfrom\u001B[39;00m \u001B[38;5;21;01mgradio\u001B[39;00m\u001B[38;5;21;01m.\u001B[39;00m\u001B[38;5;21;01mcomponents\u001B[39;00m\u001B[38;5;21;01m.\u001B[39;00m\u001B[38;5;21;01mbase\u001B[39;00m \u001B[38;5;28;01mimport\u001B[39;00m Component, FormComponent\n\u001B[0;32m      8\u001B[0m \u001B[38;5;28;01mfrom\u001B[39;00m \u001B[38;5;21;01mgradio\u001B[39;00m\u001B[38;5;21;01m.\u001B[39;00m\u001B[38;5;21;01mevents\u001B[39;00m \u001B[38;5;28;01mimport\u001B[39;00m Events\n\u001B[0;32m     10\u001B[0m \u001B[38;5;28;01mif\u001B[39;00m TYPE_CHECKING:\n",
      "File \u001B[1;32m~\\anaconda3\\envs\\vyatsu_environment\\Lib\\site-packages\\gradio\\components\\__init__.py:1\u001B[0m\n\u001B[1;32m----> 1\u001B[0m \u001B[38;5;28;01mfrom\u001B[39;00m \u001B[38;5;21;01mgradio\u001B[39;00m\u001B[38;5;21;01m.\u001B[39;00m\u001B[38;5;21;01mcomponents\u001B[39;00m\u001B[38;5;21;01m.\u001B[39;00m\u001B[38;5;21;01mannotated_image\u001B[39;00m \u001B[38;5;28;01mimport\u001B[39;00m AnnotatedImage\n\u001B[0;32m      2\u001B[0m \u001B[38;5;28;01mfrom\u001B[39;00m \u001B[38;5;21;01mgradio\u001B[39;00m\u001B[38;5;21;01m.\u001B[39;00m\u001B[38;5;21;01mcomponents\u001B[39;00m\u001B[38;5;21;01m.\u001B[39;00m\u001B[38;5;21;01maudio\u001B[39;00m \u001B[38;5;28;01mimport\u001B[39;00m Audio\n\u001B[0;32m      3\u001B[0m \u001B[38;5;28;01mfrom\u001B[39;00m \u001B[38;5;21;01mgradio\u001B[39;00m\u001B[38;5;21;01m.\u001B[39;00m\u001B[38;5;21;01mcomponents\u001B[39;00m\u001B[38;5;21;01m.\u001B[39;00m\u001B[38;5;21;01mbase\u001B[39;00m \u001B[38;5;28;01mimport\u001B[39;00m (\n\u001B[0;32m      4\u001B[0m     Component,\n\u001B[0;32m      5\u001B[0m     FormComponent,\n\u001B[1;32m   (...)\u001B[0m\n\u001B[0;32m     10\u001B[0m     get_component_instance,\n\u001B[0;32m     11\u001B[0m )\n",
      "File \u001B[1;32m~\\anaconda3\\envs\\vyatsu_environment\\Lib\\site-packages\\gradio\\components\\annotated_image.py:15\u001B[0m\n\u001B[0;32m     12\u001B[0m \u001B[38;5;28;01mfrom\u001B[39;00m \u001B[38;5;21;01mgradio_client\u001B[39;00m\u001B[38;5;21;01m.\u001B[39;00m\u001B[38;5;21;01mdocumentation\u001B[39;00m \u001B[38;5;28;01mimport\u001B[39;00m document\n\u001B[0;32m     14\u001B[0m \u001B[38;5;28;01mfrom\u001B[39;00m \u001B[38;5;21;01mgradio\u001B[39;00m \u001B[38;5;28;01mimport\u001B[39;00m processing_utils, utils\n\u001B[1;32m---> 15\u001B[0m \u001B[38;5;28;01mfrom\u001B[39;00m \u001B[38;5;21;01mgradio\u001B[39;00m\u001B[38;5;21;01m.\u001B[39;00m\u001B[38;5;21;01mcomponents\u001B[39;00m\u001B[38;5;21;01m.\u001B[39;00m\u001B[38;5;21;01mbase\u001B[39;00m \u001B[38;5;28;01mimport\u001B[39;00m Component\n\u001B[0;32m     16\u001B[0m \u001B[38;5;28;01mfrom\u001B[39;00m \u001B[38;5;21;01mgradio\u001B[39;00m\u001B[38;5;21;01m.\u001B[39;00m\u001B[38;5;21;01mdata_classes\u001B[39;00m \u001B[38;5;28;01mimport\u001B[39;00m FileData, GradioModel\n\u001B[0;32m     17\u001B[0m \u001B[38;5;28;01mfrom\u001B[39;00m \u001B[38;5;21;01mgradio\u001B[39;00m\u001B[38;5;21;01m.\u001B[39;00m\u001B[38;5;21;01mevents\u001B[39;00m \u001B[38;5;28;01mimport\u001B[39;00m Events\n",
      "File \u001B[1;32m~\\anaconda3\\envs\\vyatsu_environment\\Lib\\site-packages\\gradio\\components\\base.py:21\u001B[0m\n\u001B[0;32m     18\u001B[0m \u001B[38;5;28;01mimport\u001B[39;00m \u001B[38;5;21;01mgradio_client\u001B[39;00m\u001B[38;5;21;01m.\u001B[39;00m\u001B[38;5;21;01mutils\u001B[39;00m \u001B[38;5;28;01mas\u001B[39;00m \u001B[38;5;21;01mclient_utils\u001B[39;00m\n\u001B[0;32m     20\u001B[0m \u001B[38;5;28;01mfrom\u001B[39;00m \u001B[38;5;21;01mgradio\u001B[39;00m \u001B[38;5;28;01mimport\u001B[39;00m utils\n\u001B[1;32m---> 21\u001B[0m \u001B[38;5;28;01mfrom\u001B[39;00m \u001B[38;5;21;01mgradio\u001B[39;00m\u001B[38;5;21;01m.\u001B[39;00m\u001B[38;5;21;01mblocks\u001B[39;00m \u001B[38;5;28;01mimport\u001B[39;00m Block, BlockContext\n\u001B[0;32m     22\u001B[0m \u001B[38;5;28;01mfrom\u001B[39;00m \u001B[38;5;21;01mgradio\u001B[39;00m\u001B[38;5;21;01m.\u001B[39;00m\u001B[38;5;21;01mcomponent_meta\u001B[39;00m \u001B[38;5;28;01mimport\u001B[39;00m ComponentMeta\n\u001B[0;32m     23\u001B[0m \u001B[38;5;28;01mfrom\u001B[39;00m \u001B[38;5;21;01mgradio\u001B[39;00m\u001B[38;5;21;01m.\u001B[39;00m\u001B[38;5;21;01mdata_classes\u001B[39;00m \u001B[38;5;28;01mimport\u001B[39;00m (\n\u001B[0;32m     24\u001B[0m     BaseModel,\n\u001B[0;32m     25\u001B[0m     DeveloperPath,\n\u001B[1;32m   (...)\u001B[0m\n\u001B[0;32m     29\u001B[0m     MediaStreamChunk,\n\u001B[0;32m     30\u001B[0m )\n",
      "File \u001B[1;32m~\\anaconda3\\envs\\vyatsu_environment\\Lib\\site-packages\\gradio\\blocks.py:36\u001B[0m\n\u001B[0;32m     33\u001B[0m \u001B[38;5;28;01mfrom\u001B[39;00m \u001B[38;5;21;01mgradio_client\u001B[39;00m \u001B[38;5;28;01mimport\u001B[39;00m utils \u001B[38;5;28;01mas\u001B[39;00m client_utils\n\u001B[0;32m     34\u001B[0m \u001B[38;5;28;01mfrom\u001B[39;00m \u001B[38;5;21;01mgradio_client\u001B[39;00m\u001B[38;5;21;01m.\u001B[39;00m\u001B[38;5;21;01mdocumentation\u001B[39;00m \u001B[38;5;28;01mimport\u001B[39;00m document\n\u001B[1;32m---> 36\u001B[0m \u001B[38;5;28;01mfrom\u001B[39;00m \u001B[38;5;21;01mgradio\u001B[39;00m \u001B[38;5;28;01mimport\u001B[39;00m (\n\u001B[0;32m     37\u001B[0m     analytics,\n\u001B[0;32m     38\u001B[0m     components,\n\u001B[0;32m     39\u001B[0m     networking,\n\u001B[0;32m     40\u001B[0m     processing_utils,\n\u001B[0;32m     41\u001B[0m     queueing,\n\u001B[0;32m     42\u001B[0m     routes,\n\u001B[0;32m     43\u001B[0m     strings,\n\u001B[0;32m     44\u001B[0m     themes,\n\u001B[0;32m     45\u001B[0m     utils,\n\u001B[0;32m     46\u001B[0m     wasm_utils,\n\u001B[0;32m     47\u001B[0m )\n\u001B[0;32m     48\u001B[0m \u001B[38;5;28;01mfrom\u001B[39;00m \u001B[38;5;21;01mgradio\u001B[39;00m\u001B[38;5;21;01m.\u001B[39;00m\u001B[38;5;21;01mblocks_events\u001B[39;00m \u001B[38;5;28;01mimport\u001B[39;00m BlocksEvents, BlocksMeta\n\u001B[0;32m     49\u001B[0m \u001B[38;5;28;01mfrom\u001B[39;00m \u001B[38;5;21;01mgradio\u001B[39;00m\u001B[38;5;21;01m.\u001B[39;00m\u001B[38;5;21;01mcontext\u001B[39;00m \u001B[38;5;28;01mimport\u001B[39;00m (\n\u001B[0;32m     50\u001B[0m     Context,\n\u001B[0;32m     51\u001B[0m     LocalContext,\n\u001B[1;32m   (...)\u001B[0m\n\u001B[0;32m     54\u001B[0m     set_render_context,\n\u001B[0;32m     55\u001B[0m )\n",
      "File \u001B[1;32m~\\anaconda3\\envs\\vyatsu_environment\\Lib\\site-packages\\gradio\\networking.py:15\u001B[0m\n\u001B[0;32m     11\u001B[0m \u001B[38;5;28;01mfrom\u001B[39;00m \u001B[38;5;21;01mpathlib\u001B[39;00m \u001B[38;5;28;01mimport\u001B[39;00m Path\n\u001B[0;32m     13\u001B[0m \u001B[38;5;28;01mimport\u001B[39;00m \u001B[38;5;21;01mhttpx\u001B[39;00m\n\u001B[1;32m---> 15\u001B[0m \u001B[38;5;28;01mfrom\u001B[39;00m \u001B[38;5;21;01mgradio\u001B[39;00m\u001B[38;5;21;01m.\u001B[39;00m\u001B[38;5;21;01mroutes\u001B[39;00m \u001B[38;5;28;01mimport\u001B[39;00m App  \u001B[38;5;66;03m# HACK: to avoid circular import # noqa: F401\u001B[39;00m\n\u001B[0;32m     16\u001B[0m \u001B[38;5;28;01mfrom\u001B[39;00m \u001B[38;5;21;01mgradio\u001B[39;00m\u001B[38;5;21;01m.\u001B[39;00m\u001B[38;5;21;01mtunneling\u001B[39;00m \u001B[38;5;28;01mimport\u001B[39;00m CERTIFICATE_PATH, Tunnel\n\u001B[0;32m     18\u001B[0m GRADIO_API_SERVER \u001B[38;5;241m=\u001B[39m \u001B[38;5;124m\"\u001B[39m\u001B[38;5;124mhttps://api.gradio.app/v3/tunnel-request\u001B[39m\u001B[38;5;124m\"\u001B[39m\n",
      "File \u001B[1;32m~\\anaconda3\\envs\\vyatsu_environment\\Lib\\site-packages\\gradio\\routes.py:197\u001B[0m\n\u001B[0;32m    186\u001B[0m client \u001B[38;5;241m=\u001B[39m httpx\u001B[38;5;241m.\u001B[39mAsyncClient(\n\u001B[0;32m    187\u001B[0m     limits\u001B[38;5;241m=\u001B[39mhttpx\u001B[38;5;241m.\u001B[39mLimits(\n\u001B[0;32m    188\u001B[0m         max_connections\u001B[38;5;241m=\u001B[39m\u001B[38;5;241m100\u001B[39m,\n\u001B[1;32m   (...)\u001B[0m\n\u001B[0;32m    191\u001B[0m     timeout\u001B[38;5;241m=\u001B[39mhttpx\u001B[38;5;241m.\u001B[39mTimeout(\u001B[38;5;241m10.0\u001B[39m),\n\u001B[0;32m    192\u001B[0m )\n\u001B[0;32m    194\u001B[0m file_upload_statuses \u001B[38;5;241m=\u001B[39m FileUploadProgress()\n\u001B[1;32m--> 197\u001B[0m \u001B[38;5;28;43;01mclass\u001B[39;49;00m\u001B[43m \u001B[49m\u001B[38;5;21;43;01mApp\u001B[39;49;00m\u001B[43m(\u001B[49m\u001B[43mFastAPI\u001B[49m\u001B[43m)\u001B[49m\u001B[43m:\u001B[49m\n\u001B[0;32m    198\u001B[0m \u001B[38;5;250;43m    \u001B[39;49m\u001B[38;5;124;43;03m\"\"\"\u001B[39;49;00m\n\u001B[0;32m    199\u001B[0m \u001B[38;5;124;43;03m    FastAPI App Wrapper\u001B[39;49;00m\n\u001B[0;32m    200\u001B[0m \u001B[38;5;124;43;03m    \"\"\"\u001B[39;49;00m\n\u001B[0;32m    202\u001B[0m \u001B[43m    \u001B[49m\u001B[43mapp_port\u001B[49m\u001B[43m \u001B[49m\u001B[38;5;241;43m=\u001B[39;49m\u001B[43m \u001B[49m\u001B[38;5;28;43;01mNone\u001B[39;49;00m\n",
      "File \u001B[1;32m~\\anaconda3\\envs\\vyatsu_environment\\Lib\\site-packages\\gradio\\routes.py:241\u001B[0m, in \u001B[0;36mApp\u001B[1;34m()\u001B[0m\n\u001B[0;32m    236\u001B[0m     \u001B[38;5;28msuper\u001B[39m()\u001B[38;5;241m.\u001B[39m\u001B[38;5;21m__init__\u001B[39m(\u001B[38;5;241m*\u001B[39m\u001B[38;5;241m*\u001B[39mkwargs)\n\u001B[0;32m    238\u001B[0m \u001B[38;5;66;03m# Create a single client to be reused across requests\u001B[39;00m\n\u001B[0;32m    239\u001B[0m \u001B[38;5;66;03m# We're not overriding any defaults here\u001B[39;00m\n\u001B[1;32m--> 241\u001B[0m client \u001B[38;5;241m=\u001B[39m \u001B[43mhttpx\u001B[49m\u001B[38;5;241;43m.\u001B[39;49m\u001B[43mAsyncClient\u001B[49m\u001B[43m(\u001B[49m\u001B[43m)\u001B[49m\n\u001B[0;32m    243\u001B[0m \u001B[38;5;129m@staticmethod\u001B[39m\n\u001B[0;32m    244\u001B[0m \u001B[38;5;28;01masync\u001B[39;00m \u001B[38;5;28;01mdef\u001B[39;00m \u001B[38;5;21mproxy_to_node\u001B[39m(\n\u001B[0;32m    245\u001B[0m     request: fastapi\u001B[38;5;241m.\u001B[39mRequest,\n\u001B[1;32m   (...)\u001B[0m\n\u001B[0;32m    250\u001B[0m     mounted_path: \u001B[38;5;28mstr\u001B[39m \u001B[38;5;241m=\u001B[39m \u001B[38;5;124m\"\u001B[39m\u001B[38;5;124m\"\u001B[39m,\n\u001B[0;32m    251\u001B[0m ) \u001B[38;5;241m-\u001B[39m\u001B[38;5;241m>\u001B[39m Response:\n\u001B[0;32m    252\u001B[0m     full_path \u001B[38;5;241m=\u001B[39m request\u001B[38;5;241m.\u001B[39murl\u001B[38;5;241m.\u001B[39mpath\n",
      "File \u001B[1;32m~\\anaconda3\\envs\\vyatsu_environment\\Lib\\site-packages\\httpx\\_client.py:1431\u001B[0m, in \u001B[0;36mAsyncClient.__init__\u001B[1;34m(self, auth, params, headers, cookies, verify, cert, http1, http2, proxy, proxies, mounts, timeout, follow_redirects, limits, max_redirects, event_hooks, base_url, transport, app, trust_env, default_encoding)\u001B[0m\n\u001B[0;32m   1428\u001B[0m allow_env_proxies \u001B[38;5;241m=\u001B[39m trust_env \u001B[38;5;129;01mand\u001B[39;00m transport \u001B[38;5;129;01mis\u001B[39;00m \u001B[38;5;28;01mNone\u001B[39;00m\n\u001B[0;32m   1429\u001B[0m proxy_map \u001B[38;5;241m=\u001B[39m \u001B[38;5;28mself\u001B[39m\u001B[38;5;241m.\u001B[39m_get_proxy_map(proxies \u001B[38;5;129;01mor\u001B[39;00m proxy, allow_env_proxies)\n\u001B[1;32m-> 1431\u001B[0m \u001B[38;5;28mself\u001B[39m\u001B[38;5;241m.\u001B[39m_transport \u001B[38;5;241m=\u001B[39m \u001B[38;5;28;43mself\u001B[39;49m\u001B[38;5;241;43m.\u001B[39;49m\u001B[43m_init_transport\u001B[49m\u001B[43m(\u001B[49m\n\u001B[0;32m   1432\u001B[0m \u001B[43m    \u001B[49m\u001B[43mverify\u001B[49m\u001B[38;5;241;43m=\u001B[39;49m\u001B[43mverify\u001B[49m\u001B[43m,\u001B[49m\n\u001B[0;32m   1433\u001B[0m \u001B[43m    \u001B[49m\u001B[43mcert\u001B[49m\u001B[38;5;241;43m=\u001B[39;49m\u001B[43mcert\u001B[49m\u001B[43m,\u001B[49m\n\u001B[0;32m   1434\u001B[0m \u001B[43m    \u001B[49m\u001B[43mhttp1\u001B[49m\u001B[38;5;241;43m=\u001B[39;49m\u001B[43mhttp1\u001B[49m\u001B[43m,\u001B[49m\n\u001B[0;32m   1435\u001B[0m \u001B[43m    \u001B[49m\u001B[43mhttp2\u001B[49m\u001B[38;5;241;43m=\u001B[39;49m\u001B[43mhttp2\u001B[49m\u001B[43m,\u001B[49m\n\u001B[0;32m   1436\u001B[0m \u001B[43m    \u001B[49m\u001B[43mlimits\u001B[49m\u001B[38;5;241;43m=\u001B[39;49m\u001B[43mlimits\u001B[49m\u001B[43m,\u001B[49m\n\u001B[0;32m   1437\u001B[0m \u001B[43m    \u001B[49m\u001B[43mtransport\u001B[49m\u001B[38;5;241;43m=\u001B[39;49m\u001B[43mtransport\u001B[49m\u001B[43m,\u001B[49m\n\u001B[0;32m   1438\u001B[0m \u001B[43m    \u001B[49m\u001B[43mapp\u001B[49m\u001B[38;5;241;43m=\u001B[39;49m\u001B[43mapp\u001B[49m\u001B[43m,\u001B[49m\n\u001B[0;32m   1439\u001B[0m \u001B[43m    \u001B[49m\u001B[43mtrust_env\u001B[49m\u001B[38;5;241;43m=\u001B[39;49m\u001B[43mtrust_env\u001B[49m\u001B[43m,\u001B[49m\n\u001B[0;32m   1440\u001B[0m \u001B[43m\u001B[49m\u001B[43m)\u001B[49m\n\u001B[0;32m   1442\u001B[0m \u001B[38;5;28mself\u001B[39m\u001B[38;5;241m.\u001B[39m_mounts: \u001B[38;5;28mdict\u001B[39m[URLPattern, AsyncBaseTransport \u001B[38;5;241m|\u001B[39m \u001B[38;5;28;01mNone\u001B[39;00m] \u001B[38;5;241m=\u001B[39m {\n\u001B[0;32m   1443\u001B[0m     URLPattern(key): \u001B[38;5;28;01mNone\u001B[39;00m\n\u001B[0;32m   1444\u001B[0m     \u001B[38;5;28;01mif\u001B[39;00m proxy \u001B[38;5;129;01mis\u001B[39;00m \u001B[38;5;28;01mNone\u001B[39;00m\n\u001B[1;32m   (...)\u001B[0m\n\u001B[0;32m   1454\u001B[0m     \u001B[38;5;28;01mfor\u001B[39;00m key, proxy \u001B[38;5;129;01min\u001B[39;00m proxy_map\u001B[38;5;241m.\u001B[39mitems()\n\u001B[0;32m   1455\u001B[0m }\n\u001B[0;32m   1456\u001B[0m \u001B[38;5;28;01mif\u001B[39;00m mounts \u001B[38;5;129;01mis\u001B[39;00m \u001B[38;5;129;01mnot\u001B[39;00m \u001B[38;5;28;01mNone\u001B[39;00m:\n",
      "File \u001B[1;32m~\\anaconda3\\envs\\vyatsu_environment\\Lib\\site-packages\\httpx\\_client.py:1479\u001B[0m, in \u001B[0;36mAsyncClient._init_transport\u001B[1;34m(self, verify, cert, http1, http2, limits, transport, app, trust_env)\u001B[0m\n\u001B[0;32m   1476\u001B[0m \u001B[38;5;28;01mif\u001B[39;00m app \u001B[38;5;129;01mis\u001B[39;00m \u001B[38;5;129;01mnot\u001B[39;00m \u001B[38;5;28;01mNone\u001B[39;00m:\n\u001B[0;32m   1477\u001B[0m     \u001B[38;5;28;01mreturn\u001B[39;00m ASGITransport(app\u001B[38;5;241m=\u001B[39mapp)\n\u001B[1;32m-> 1479\u001B[0m \u001B[38;5;28;01mreturn\u001B[39;00m \u001B[43mAsyncHTTPTransport\u001B[49m\u001B[43m(\u001B[49m\n\u001B[0;32m   1480\u001B[0m \u001B[43m    \u001B[49m\u001B[43mverify\u001B[49m\u001B[38;5;241;43m=\u001B[39;49m\u001B[43mverify\u001B[49m\u001B[43m,\u001B[49m\n\u001B[0;32m   1481\u001B[0m \u001B[43m    \u001B[49m\u001B[43mcert\u001B[49m\u001B[38;5;241;43m=\u001B[39;49m\u001B[43mcert\u001B[49m\u001B[43m,\u001B[49m\n\u001B[0;32m   1482\u001B[0m \u001B[43m    \u001B[49m\u001B[43mhttp1\u001B[49m\u001B[38;5;241;43m=\u001B[39;49m\u001B[43mhttp1\u001B[49m\u001B[43m,\u001B[49m\n\u001B[0;32m   1483\u001B[0m \u001B[43m    \u001B[49m\u001B[43mhttp2\u001B[49m\u001B[38;5;241;43m=\u001B[39;49m\u001B[43mhttp2\u001B[49m\u001B[43m,\u001B[49m\n\u001B[0;32m   1484\u001B[0m \u001B[43m    \u001B[49m\u001B[43mlimits\u001B[49m\u001B[38;5;241;43m=\u001B[39;49m\u001B[43mlimits\u001B[49m\u001B[43m,\u001B[49m\n\u001B[0;32m   1485\u001B[0m \u001B[43m    \u001B[49m\u001B[43mtrust_env\u001B[49m\u001B[38;5;241;43m=\u001B[39;49m\u001B[43mtrust_env\u001B[49m\u001B[43m,\u001B[49m\n\u001B[0;32m   1486\u001B[0m \u001B[43m\u001B[49m\u001B[43m)\u001B[49m\n",
      "File \u001B[1;32m~\\anaconda3\\envs\\vyatsu_environment\\Lib\\site-packages\\httpx\\_transports\\default.py:277\u001B[0m, in \u001B[0;36mAsyncHTTPTransport.__init__\u001B[1;34m(self, verify, cert, http1, http2, limits, trust_env, proxy, uds, local_address, retries, socket_options)\u001B[0m\n\u001B[0;32m    263\u001B[0m \u001B[38;5;28;01mdef\u001B[39;00m \u001B[38;5;21m__init__\u001B[39m(\n\u001B[0;32m    264\u001B[0m     \u001B[38;5;28mself\u001B[39m,\n\u001B[0;32m    265\u001B[0m     verify: VerifyTypes \u001B[38;5;241m=\u001B[39m \u001B[38;5;28;01mTrue\u001B[39;00m,\n\u001B[1;32m   (...)\u001B[0m\n\u001B[0;32m    275\u001B[0m     socket_options: typing\u001B[38;5;241m.\u001B[39mIterable[SOCKET_OPTION] \u001B[38;5;241m|\u001B[39m \u001B[38;5;28;01mNone\u001B[39;00m \u001B[38;5;241m=\u001B[39m \u001B[38;5;28;01mNone\u001B[39;00m,\n\u001B[0;32m    276\u001B[0m ) \u001B[38;5;241m-\u001B[39m\u001B[38;5;241m>\u001B[39m \u001B[38;5;28;01mNone\u001B[39;00m:\n\u001B[1;32m--> 277\u001B[0m     ssl_context \u001B[38;5;241m=\u001B[39m \u001B[43mcreate_ssl_context\u001B[49m\u001B[43m(\u001B[49m\u001B[43mverify\u001B[49m\u001B[38;5;241;43m=\u001B[39;49m\u001B[43mverify\u001B[49m\u001B[43m,\u001B[49m\u001B[43m \u001B[49m\u001B[43mcert\u001B[49m\u001B[38;5;241;43m=\u001B[39;49m\u001B[43mcert\u001B[49m\u001B[43m,\u001B[49m\u001B[43m \u001B[49m\u001B[43mtrust_env\u001B[49m\u001B[38;5;241;43m=\u001B[39;49m\u001B[43mtrust_env\u001B[49m\u001B[43m)\u001B[49m\n\u001B[0;32m    278\u001B[0m     proxy \u001B[38;5;241m=\u001B[39m Proxy(url\u001B[38;5;241m=\u001B[39mproxy) \u001B[38;5;28;01mif\u001B[39;00m \u001B[38;5;28misinstance\u001B[39m(proxy, (\u001B[38;5;28mstr\u001B[39m, URL)) \u001B[38;5;28;01melse\u001B[39;00m proxy\n\u001B[0;32m    280\u001B[0m     \u001B[38;5;28;01mif\u001B[39;00m proxy \u001B[38;5;129;01mis\u001B[39;00m \u001B[38;5;28;01mNone\u001B[39;00m:\n",
      "File \u001B[1;32m~\\anaconda3\\envs\\vyatsu_environment\\Lib\\site-packages\\httpx\\_config.py:53\u001B[0m, in \u001B[0;36mcreate_ssl_context\u001B[1;34m(cert, verify, trust_env, http2)\u001B[0m\n\u001B[0;32m     47\u001B[0m \u001B[38;5;28;01mdef\u001B[39;00m \u001B[38;5;21mcreate_ssl_context\u001B[39m(\n\u001B[0;32m     48\u001B[0m     cert: CertTypes \u001B[38;5;241m|\u001B[39m \u001B[38;5;28;01mNone\u001B[39;00m \u001B[38;5;241m=\u001B[39m \u001B[38;5;28;01mNone\u001B[39;00m,\n\u001B[0;32m     49\u001B[0m     verify: VerifyTypes \u001B[38;5;241m=\u001B[39m \u001B[38;5;28;01mTrue\u001B[39;00m,\n\u001B[0;32m     50\u001B[0m     trust_env: \u001B[38;5;28mbool\u001B[39m \u001B[38;5;241m=\u001B[39m \u001B[38;5;28;01mTrue\u001B[39;00m,\n\u001B[0;32m     51\u001B[0m     http2: \u001B[38;5;28mbool\u001B[39m \u001B[38;5;241m=\u001B[39m \u001B[38;5;28;01mFalse\u001B[39;00m,\n\u001B[0;32m     52\u001B[0m ) \u001B[38;5;241m-\u001B[39m\u001B[38;5;241m>\u001B[39m ssl\u001B[38;5;241m.\u001B[39mSSLContext:\n\u001B[1;32m---> 53\u001B[0m     \u001B[38;5;28;01mreturn\u001B[39;00m \u001B[43mSSLConfig\u001B[49m\u001B[43m(\u001B[49m\n\u001B[0;32m     54\u001B[0m \u001B[43m        \u001B[49m\u001B[43mcert\u001B[49m\u001B[38;5;241;43m=\u001B[39;49m\u001B[43mcert\u001B[49m\u001B[43m,\u001B[49m\u001B[43m \u001B[49m\u001B[43mverify\u001B[49m\u001B[38;5;241;43m=\u001B[39;49m\u001B[43mverify\u001B[49m\u001B[43m,\u001B[49m\u001B[43m \u001B[49m\u001B[43mtrust_env\u001B[49m\u001B[38;5;241;43m=\u001B[39;49m\u001B[43mtrust_env\u001B[49m\u001B[43m,\u001B[49m\u001B[43m \u001B[49m\u001B[43mhttp2\u001B[49m\u001B[38;5;241;43m=\u001B[39;49m\u001B[43mhttp2\u001B[49m\n\u001B[0;32m     55\u001B[0m \u001B[43m    \u001B[49m\u001B[43m)\u001B[49m\u001B[38;5;241m.\u001B[39mssl_context\n",
      "File \u001B[1;32m~\\anaconda3\\envs\\vyatsu_environment\\Lib\\site-packages\\httpx\\_config.py:77\u001B[0m, in \u001B[0;36mSSLConfig.__init__\u001B[1;34m(self, cert, verify, trust_env, http2)\u001B[0m\n\u001B[0;32m     75\u001B[0m \u001B[38;5;28mself\u001B[39m\u001B[38;5;241m.\u001B[39mtrust_env \u001B[38;5;241m=\u001B[39m trust_env\n\u001B[0;32m     76\u001B[0m \u001B[38;5;28mself\u001B[39m\u001B[38;5;241m.\u001B[39mhttp2 \u001B[38;5;241m=\u001B[39m http2\n\u001B[1;32m---> 77\u001B[0m \u001B[38;5;28mself\u001B[39m\u001B[38;5;241m.\u001B[39mssl_context \u001B[38;5;241m=\u001B[39m \u001B[38;5;28;43mself\u001B[39;49m\u001B[38;5;241;43m.\u001B[39;49m\u001B[43mload_ssl_context\u001B[49m\u001B[43m(\u001B[49m\u001B[43m)\u001B[49m\n",
      "File \u001B[1;32m~\\anaconda3\\envs\\vyatsu_environment\\Lib\\site-packages\\httpx\\_config.py:89\u001B[0m, in \u001B[0;36mSSLConfig.load_ssl_context\u001B[1;34m(self)\u001B[0m\n\u001B[0;32m     80\u001B[0m logger\u001B[38;5;241m.\u001B[39mdebug(\n\u001B[0;32m     81\u001B[0m     \u001B[38;5;124m\"\u001B[39m\u001B[38;5;124mload_ssl_context verify=\u001B[39m\u001B[38;5;132;01m%r\u001B[39;00m\u001B[38;5;124m cert=\u001B[39m\u001B[38;5;132;01m%r\u001B[39;00m\u001B[38;5;124m trust_env=\u001B[39m\u001B[38;5;132;01m%r\u001B[39;00m\u001B[38;5;124m http2=\u001B[39m\u001B[38;5;132;01m%r\u001B[39;00m\u001B[38;5;124m\"\u001B[39m,\n\u001B[0;32m     82\u001B[0m     \u001B[38;5;28mself\u001B[39m\u001B[38;5;241m.\u001B[39mverify,\n\u001B[1;32m   (...)\u001B[0m\n\u001B[0;32m     85\u001B[0m     \u001B[38;5;28mself\u001B[39m\u001B[38;5;241m.\u001B[39mhttp2,\n\u001B[0;32m     86\u001B[0m )\n\u001B[0;32m     88\u001B[0m \u001B[38;5;28;01mif\u001B[39;00m \u001B[38;5;28mself\u001B[39m\u001B[38;5;241m.\u001B[39mverify:\n\u001B[1;32m---> 89\u001B[0m     \u001B[38;5;28;01mreturn\u001B[39;00m \u001B[38;5;28;43mself\u001B[39;49m\u001B[38;5;241;43m.\u001B[39;49m\u001B[43mload_ssl_context_verify\u001B[49m\u001B[43m(\u001B[49m\u001B[43m)\u001B[49m\n\u001B[0;32m     90\u001B[0m \u001B[38;5;28;01mreturn\u001B[39;00m \u001B[38;5;28mself\u001B[39m\u001B[38;5;241m.\u001B[39mload_ssl_context_no_verify()\n",
      "File \u001B[1;32m~\\anaconda3\\envs\\vyatsu_environment\\Lib\\site-packages\\httpx\\_config.py:147\u001B[0m, in \u001B[0;36mSSLConfig.load_ssl_context_verify\u001B[1;34m(self)\u001B[0m\n\u001B[0;32m    145\u001B[0m     cafile \u001B[38;5;241m=\u001B[39m \u001B[38;5;28mstr\u001B[39m(ca_bundle_path)\n\u001B[0;32m    146\u001B[0m     logger\u001B[38;5;241m.\u001B[39mdebug(\u001B[38;5;124m\"\u001B[39m\u001B[38;5;124mload_verify_locations cafile=\u001B[39m\u001B[38;5;132;01m%r\u001B[39;00m\u001B[38;5;124m\"\u001B[39m, cafile)\n\u001B[1;32m--> 147\u001B[0m     \u001B[43mcontext\u001B[49m\u001B[38;5;241;43m.\u001B[39;49m\u001B[43mload_verify_locations\u001B[49m\u001B[43m(\u001B[49m\u001B[43mcafile\u001B[49m\u001B[38;5;241;43m=\u001B[39;49m\u001B[43mcafile\u001B[49m\u001B[43m)\u001B[49m\n\u001B[0;32m    148\u001B[0m \u001B[38;5;28;01melif\u001B[39;00m ca_bundle_path\u001B[38;5;241m.\u001B[39mis_dir():\n\u001B[0;32m    149\u001B[0m     capath \u001B[38;5;241m=\u001B[39m \u001B[38;5;28mstr\u001B[39m(ca_bundle_path)\n",
      "\u001B[1;31mKeyboardInterrupt\u001B[0m: "
     ]
    }
   ],
   "execution_count": 43
  }
 ],
 "metadata": {
  "kernelspec": {
   "display_name": "base",
   "language": "python",
   "name": "python3"
  },
  "language_info": {
   "codemirror_mode": {
    "name": "ipython",
    "version": 3
   },
   "file_extension": ".py",
   "mimetype": "text/x-python",
   "name": "python",
   "nbconvert_exporter": "python",
   "pygments_lexer": "ipython3",
   "version": "3.9.12"
  }
 },
 "nbformat": 4,
 "nbformat_minor": 2
}
