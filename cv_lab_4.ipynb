{
 "cells": [
  {
   "cell_type": "markdown",
   "metadata": {},
   "source": "# Поиск похожих изображений по картинке"
  },
  {
   "cell_type": "code",
   "metadata": {
    "ExecuteTime": {
     "end_time": "2024-11-26T15:27:07.580368Z",
     "start_time": "2024-11-26T15:27:07.375264Z"
    }
   },
   "source": "import cv2",
   "outputs": [],
   "execution_count": 1
  },
  {
   "metadata": {},
   "cell_type": "markdown",
   "source": [
    "Реализовано несколько способов поиска на основе:\n",
    "<ol>\n",
    "    <li>гистограммы цветов;</li>\n",
    "    <li>гистограммы градиентов;</li>\n",
    "    <li>SIFT</li>\n",
    "</ol>\n",
    "</div>\n",
    "<div>\n",
    "    Данные - Content Based Image Retrieval (CBIR) <a href=\"https://www.kaggle.com/datasets/theaayushbajaj/cbir-dataset\">dataset</a> \n",
    "</div>"
   ]
  },
  {
   "cell_type": "code",
   "metadata": {
    "ExecuteTime": {
     "end_time": "2024-11-26T15:27:08.117262Z",
     "start_time": "2024-11-26T15:27:07.594373Z"
    }
   },
   "source": [
    "import os\n",
    "import numpy as np\n",
    "import pandas as pd\n",
    "\n",
    "\n",
    "def calculate_vectors(calculate_vector_method, output_file_name, images_path=\"images\"):\n",
    "    df = pd.DataFrame(data=None, columns=[\"img_path\", \"vector\"])\n",
    "    df_index = 0\n",
    "    \n",
    "    for img in os.listdir(images_path):\n",
    "        img_path = os.path.join(images_path, img)\n",
    "        img = cv2.imread(img_path)\n",
    "        img_vector = calculate_vector_method(img)\n",
    "        df.loc[df_index] = [img_path, img_vector]\n",
    "        df_index += 1\n",
    "        \n",
    "    df.to_pickle(output_file_name)\n",
    "\n",
    "        \n",
    "def sift_descriptors(img):\n",
    "    gray_img = cv2.cvtColor(np.array(img), cv2.COLOR_RGB2GRAY)\n",
    "    \n",
    "    sift = cv2.SIFT_create()\n",
    "    _, img_descriptors = sift.detectAndCompute(gray_img, None)\n",
    "    return img_descriptors\n",
    "\n",
    "\n",
    "def color_histogram(img):\n",
    "    img = np.array(img)\n",
    "    result = []\n",
    "    colors = (\"red\", \"green\", \"blue\")\n",
    "    for channel_id, color in enumerate(colors):\n",
    "        histogram, _ = np.histogram(img[:, :, channel_id], bins=256)\n",
    "        histogram = histogram / np.linalg.norm(histogram)\n",
    "        result.extend(histogram)\n",
    "    return np.array(result)\n",
    "\n",
    "\n",
    "def hog(img):\n",
    "    img = cv2.cvtColor(np.array(img), cv2.COLOR_RGB2GRAY)\n",
    "    \n",
    "    sobel_x = cv2.Sobel(img, cv2.CV_64F, 1, 0, ksize=5)\n",
    "    sobel_y = cv2.Sobel(img, cv2.CV_64F, 0, 1, ksize=5)\n",
    "    g, theta = cv2.cartToPolar(sobel_x, sobel_y)\n",
    "    hist, _ = np.histogram(theta.flatten(), bins=256, range=(0, 2*np.pi), weights=g.flatten())\n",
    "    hist = hist / np.linalg.norm(hist)\n",
    "    \n",
    "    return hist\n",
    "\n",
    "\n",
    "# calculate_vectors(sift_descriptors, \"vectors/sift_vectors.pkl\")\n",
    "# calculate_vectors(color_histogram, \"vectors/color_histogram_vectors.pkl\")\n",
    "# calculate_vectors(hog, \"vectors/hog_vectors.pkl\")"
   ],
   "outputs": [],
   "execution_count": 2
  },
  {
   "metadata": {
    "ExecuteTime": {
     "end_time": "2024-11-26T15:27:08.236826Z",
     "start_time": "2024-11-26T15:27:08.221083Z"
    }
   },
   "cell_type": "code",
   "source": [
    "def find_similar_images(image, method=\"sift\"):\n",
    "    if method == \"sift\":\n",
    "        images_vectors = pd.read_pickle(\"vectors/sift_vectors.pkl\")\n",
    "        query_vector = sift_descriptors(image)\n",
    "    elif method == \"color_histogram\":\n",
    "        images_vectors = pd.read_pickle(\"vectors/color_histogram_vectors.pkl\")\n",
    "        query_vector = color_histogram(image)\n",
    "    elif method == \"hog\":\n",
    "        images_vectors = pd.read_pickle(\"vectors/hog_vectors.pkl\")\n",
    "        query_vector = hog(image)\n",
    "    else:\n",
    "        raise ValueError(\"Unknown method\")\n",
    "        \n",
    "    all_img_paths = images_vectors[\"img_path\"]\n",
    "    all_vectors = images_vectors[\"vector\"]\n",
    "    top1_image_path = \"\"\n",
    "    top2_image_path = \"\"\n",
    "    top3_image_path = \"\"\n",
    "    \n",
    "    if method == \"sift\":\n",
    "        bf = cv2.BFMatcher(cv2.NORM_L2, crossCheck=True)\n",
    "        top1_matches = 0\n",
    "        top2_matches = 0\n",
    "        top3_matches = 0\n",
    "        for i, vector in enumerate(all_vectors):\n",
    "            matches = bf.match(query_vector, vector)\n",
    "            num_matches = len(matches)\n",
    "            if num_matches > top1_matches:\n",
    "                top3_matches = top2_matches\n",
    "                top2_matches = top1_matches\n",
    "                top1_matches = num_matches\n",
    "                top3_image_path = top2_image_path\n",
    "                top2_image_path = top1_image_path\n",
    "                top1_image_path = all_img_paths[i]\n",
    "            elif num_matches > top2_matches:\n",
    "                top3_matches = top2_matches\n",
    "                top2_matches = num_matches\n",
    "                top3_image_path = top2_image_path\n",
    "                top2_image_path = all_img_paths[i]\n",
    "            elif num_matches > top3_matches:\n",
    "                top3_matches = num_matches\n",
    "                top3_image_path = all_img_paths[i]\n",
    "                \n",
    "        top1_image = cv2.imread(top1_image_path)\n",
    "        top1_image = cv2.cvtColor(top1_image, cv2.COLOR_BGR2RGB)\n",
    "        top2_image = cv2.imread(top2_image_path)\n",
    "        top2_image = cv2.cvtColor(top2_image, cv2.COLOR_BGR2RGB)\n",
    "        top3_image = cv2.imread(top3_image_path)\n",
    "        top3_image = cv2.cvtColor(top3_image, cv2.COLOR_BGR2RGB)\n",
    "        return [top1_image, top2_image, top3_image]\n",
    "\n",
    "    elif method == \"color_histogram\" or method == \"hog\":\n",
    "        top1_distance = float(\"inf\")\n",
    "        top2_distance = float(\"inf\")\n",
    "        top3_distance = float(\"inf\")\n",
    "        for i, vector in enumerate(all_vectors):\n",
    "            distance = np.linalg.norm(query_vector - vector)\n",
    "            if distance < top1_distance:\n",
    "                top3_distance = top2_distance\n",
    "                top2_distance = top1_distance\n",
    "                top1_distance = distance\n",
    "                top3_image_path = top2_image_path\n",
    "                top2_image_path = top1_image_path\n",
    "                top1_image_path = all_img_paths[i]\n",
    "            elif distance < top2_distance:\n",
    "                top3_distance = top2_distance\n",
    "                top2_distance = distance\n",
    "                top3_image_path = top2_image_path\n",
    "                top2_image_path = all_img_paths[i]\n",
    "            elif distance < top3_distance:\n",
    "                top3_distance = distance\n",
    "                top3_image_path = all_img_paths[i]\n",
    "                \n",
    "        top1_image = cv2.imread(top1_image_path)\n",
    "        top1_image = cv2.cvtColor(top1_image, cv2.COLOR_BGR2RGB)\n",
    "        top2_image = cv2.imread(top2_image_path)\n",
    "        top2_image = cv2.cvtColor(top2_image, cv2.COLOR_BGR2RGB)\n",
    "        top3_image = cv2.imread(top3_image_path)\n",
    "        top3_image = cv2.cvtColor(top3_image, cv2.COLOR_BGR2RGB)\n",
    "        return [top1_image, top2_image, top3_image]\n",
    "    \n",
    "    else:\n",
    "        raise ValueError(\"Unknown method\")\n",
    "\n",
    "# chosen_img = \"images/0.jpg\"\n",
    "# img = cv2.imread(chosen_img)\n",
    "# chosen_method = \"sift\"\n",
    "# find_similar_images(img, \"sift\")"
   ],
   "outputs": [],
   "execution_count": 3
  },
  {
   "metadata": {
    "ExecuteTime": {
     "end_time": "2024-11-26T15:27:56.632226Z",
     "start_time": "2024-11-26T15:27:55.642672Z"
    }
   },
   "cell_type": "code",
   "source": [
    "import gradio as gr\n",
    "\n",
    "def get_similar_images(image, method):\n",
    "    image = cv2.resize(image, (512, 512))\n",
    "    similar_images = find_similar_images(image, method)\n",
    "    return [gr.Image(similar_images[i]) for i in range(3)]\n",
    "\n",
    "gr.Interface(get_similar_images, \n",
    "             inputs=[\"image\", gr.Dropdown(choices=[\"sift\", \"color_histogram\", \"hog\"])], \n",
    "             outputs=[\"image\", \"image\", \"image\"]).launch()"
   ],
   "outputs": [
    {
     "name": "stdout",
     "output_type": "stream",
     "text": [
      "* Running on local URL:  http://127.0.0.1:7861\n",
      "\n",
      "To create a public link, set `share=True` in `launch()`.\n"
     ]
    },
    {
     "data": {
      "text/plain": [
       "<IPython.core.display.HTML object>"
      ],
      "text/html": [
       "<div><iframe src=\"http://127.0.0.1:7861/\" width=\"100%\" height=\"500\" allow=\"autoplay; camera; microphone; clipboard-read; clipboard-write;\" frameborder=\"0\" allowfullscreen></iframe></div>"
      ]
     },
     "metadata": {},
     "output_type": "display_data"
    },
    {
     "data": {
      "text/plain": []
     },
     "execution_count": 6,
     "metadata": {},
     "output_type": "execute_result"
    }
   ],
   "execution_count": 6
  }
 ],
 "metadata": {
  "kernelspec": {
   "display_name": "base",
   "language": "python",
   "name": "python3"
  },
  "language_info": {
   "codemirror_mode": {
    "name": "ipython",
    "version": 3
   },
   "file_extension": ".py",
   "mimetype": "text/x-python",
   "name": "python",
   "nbconvert_exporter": "python",
   "pygments_lexer": "ipython3",
   "version": "3.9.12"
  }
 },
 "nbformat": 4,
 "nbformat_minor": 2
}
